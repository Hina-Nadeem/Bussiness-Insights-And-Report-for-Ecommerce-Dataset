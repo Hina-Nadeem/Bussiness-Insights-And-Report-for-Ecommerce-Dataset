{
 "cells": [
  {
   "cell_type": "code",
   "execution_count": 1,
   "id": "309eeb23-d3a6-4f89-916b-a6e9ad580cc3",
   "metadata": {},
   "outputs": [],
   "source": [
    "# Import libraries\n",
    "import pandas as pd\n",
    "import numpy as np\n"
   ]
  },
  {
   "cell_type": "code",
   "execution_count": 2,
   "id": "8912ab7e-5dce-440c-8e39-9d7433465df1",
   "metadata": {},
   "outputs": [],
   "source": [
    "# Load datasets \n",
    "orders = pd.read_csv(\"olist_orders_dataset.csv\")\n",
    "customers = pd.read_csv(\"olist_customers_dataset.csv\")\n",
    "items = pd.read_csv(\"olist_order_items_dataset.csv\")\n",
    "payments = pd.read_csv(\"olist_order_payments_dataset.csv\")\n",
    "products = pd.read_csv(\"olist_products_dataset.csv\")\n",
    "reviews = pd.read_csv(\"olist_order_reviews_dataset.csv\")\n"
   ]
  },
  {
   "cell_type": "code",
   "execution_count": 3,
   "id": "d0db13dd-588e-4dcd-9420-1c866e5717c9",
   "metadata": {},
   "outputs": [],
   "source": [
    "# Convert date columns to datetime\n",
    "date_cols = [\"order_purchase_timestamp\", \"order_approved_at\", \n",
    "             \"order_delivered_carrier_date\", \"order_delivered_customer_date\", \n",
    "             \"order_estimated_delivery_date\"]\n",
    "\n",
    "for col in date_cols:\n",
    "    orders[col] = pd.to_datetime(orders[col], errors=\"coerce\")\n"
   ]
  },
  {
   "cell_type": "code",
   "execution_count": 4,
   "id": "defbf496-a49a-4d03-bf44-2e1bd584ec7b",
   "metadata": {},
   "outputs": [],
   "source": [
    "# Drop duplicates (if any)\n",
    "orders.drop_duplicates(inplace=True)\n",
    "customers.drop_duplicates(inplace=True)\n",
    "items.drop_duplicates(inplace=True)\n",
    "payments.drop_duplicates(inplace=True)\n",
    "products.drop_duplicates(inplace=True)\n",
    "reviews.drop_duplicates(inplace=True)\n"
   ]
  },
  {
   "cell_type": "code",
   "execution_count": 5,
   "id": "95413839-de52-4efa-8fec-b77e582d78a9",
   "metadata": {},
   "outputs": [],
   "source": [
    "# Merge customers with orders\n",
    "df = orders.merge(customers, on=\"customer_id\", how=\"left\")\n"
   ]
  },
  {
   "cell_type": "code",
   "execution_count": 6,
   "id": "2e4f1a03-72fc-43f9-8d89-f49dfea071d5",
   "metadata": {},
   "outputs": [],
   "source": [
    "# Merge payments\n",
    "df = df.merge(payments, on=\"order_id\", how=\"left\")\n"
   ]
  },
  {
   "cell_type": "code",
   "execution_count": 7,
   "id": "4f5e6935-ca72-433f-b4bb-5cb4bcc93cb3",
   "metadata": {},
   "outputs": [],
   "source": [
    "# Merge items (products inside orders)\n",
    "df = df.merge(items, on=\"order_id\", how=\"left\")\n",
    "\n",
    "# Merge products\n",
    "df = df.merge(products, on=\"product_id\", how=\"left\")\n",
    "\n",
    "# Merge reviews\n",
    "df = df.merge(reviews[[\"order_id\",\"review_score\"]], on=\"order_id\", how=\"left\")\n"
   ]
  },
  {
   "cell_type": "code",
   "execution_count": 8,
   "id": "70cb192d-b86c-45a2-adc0-8bbac2e1113f",
   "metadata": {},
   "outputs": [
    {
     "name": "stdout",
     "output_type": "stream",
     "text": [
      "0         2017-10\n",
      "1         2017-10\n",
      "2         2017-10\n",
      "3         2018-07\n",
      "4         2018-08\n",
      "           ...   \n",
      "119138    2018-02\n",
      "119139    2017-08\n",
      "119140    2018-01\n",
      "119141    2018-01\n",
      "119142    2018-03\n",
      "Name: order_month, Length: 119143, dtype: period[M]\n"
     ]
    }
   ],
   "source": [
    "# Create month column for trend analysis\n",
    "df[\"order_month\"] = df[\"order_purchase_timestamp\"].dt.to_period(\"M\")\n",
    "print(df[\"order_month\"])\n"
   ]
  },
  {
   "cell_type": "code",
   "execution_count": 9,
   "id": "31c34dd8-8760-451b-ae66-4e258070f3eb",
   "metadata": {},
   "outputs": [
    {
     "name": "stdout",
     "output_type": "stream",
     "text": [
      "0          8.0\n",
      "1          8.0\n",
      "2          8.0\n",
      "3         12.0\n",
      "4          9.0\n",
      "          ... \n",
      "119138    22.0\n",
      "119139    24.0\n",
      "119140    17.0\n",
      "119141    17.0\n",
      "119142     7.0\n",
      "Name: delivery_days, Length: 119143, dtype: float64\n"
     ]
    }
   ],
   "source": [
    "# Delivery performance (days)\n",
    "df[\"delivery_days\"] = (df[\"order_delivered_customer_date\"] - df[\"order_approved_at\"]).dt.days\n",
    "print(df[\"delivery_days\"])"
   ]
  },
  {
   "cell_type": "code",
   "execution_count": 10,
   "id": "1d863acd-06a8-4e13-82ca-3fd34b4f9797",
   "metadata": {},
   "outputs": [
    {
     "name": "stdout",
     "output_type": "stream",
     "text": [
      "0          12.903333\n",
      "1          12.903333\n",
      "2          12.903333\n",
      "3         141.460000\n",
      "4         179.120000\n",
      "             ...    \n",
      "119138    195.000000\n",
      "119139    271.010000\n",
      "119140    441.160000\n",
      "119141    441.160000\n",
      "119142     86.860000\n",
      "Name: avg_order_value, Length: 119143, dtype: float64\n"
     ]
    }
   ],
   "source": [
    "# Average order value\n",
    "df[\"avg_order_value\"] = df.groupby(\"order_id\")[\"payment_value\"].transform(\"mean\")\n",
    "print(df[\"avg_order_value\"])"
   ]
  },
  {
   "cell_type": "code",
   "execution_count": 13,
   "id": "3da4bfcd-c3bc-4e10-854d-42c28c1c32d2",
   "metadata": {},
   "outputs": [],
   "source": [
    "#handle missing value\n",
    "df[\"delivery_days\"] = df[\"delivery_days\"].fillna(df[\"delivery_days\"].median())\n",
    "df[\"review_score\"] = df[\"review_score\"].fillna(df[\"review_score\"].mode()[0])\n"
   ]
  },
  {
   "cell_type": "code",
   "execution_count": 14,
   "id": "edbf7550-9386-48b8-b019-7be885da6554",
   "metadata": {},
   "outputs": [
    {
     "name": "stdout",
     "output_type": "stream",
     "text": [
      " Cleaned dataset saved as cleaned_ecommerce_dataset.csv\n",
      "Shape of dataset: (119143, 34)\n"
     ]
    }
   ],
   "source": [
    "# Save Cleaned Dataset\n",
    "df.to_csv(\"cleaned_ecommerce_dataset.csv\", index=False)\n",
    "\n",
    "print(\" Cleaned dataset saved as cleaned_ecommerce_dataset.csv\")\n",
    "print(\"Shape of dataset:\", df.shape)\n"
   ]
  },
  {
   "cell_type": "markdown",
   "id": "4b0d5d93-4b9e-474e-be46-9d69ea22e2cd",
   "metadata": {},
   "source": [
    "SUMMARY\n"
   ]
  },
  {
   "cell_type": "code",
   "execution_count": 15,
   "id": "7c04d695-f109-4828-8d83-4c1ac5bbf122",
   "metadata": {},
   "outputs": [],
   "source": [
    "# What I Have Done (Data Cleaning and Preprocessing)\n",
    "\n",
    "# 1. Load Dataset\n",
    "# 2. Format Date Columns\n",
    "# 3. Remove Duplicates\n",
    "# 4. Merge Tables\n",
    "# 5. Feature Engineering (New Columns)\n",
    "# 6. Handle Missing Values\n",
    "# 7. Export Clean Dataset\n"
   ]
  },
  {
   "cell_type": "code",
   "execution_count": null,
   "id": "3e863263-4bbc-4122-af1f-51f7082c8aa0",
   "metadata": {},
   "outputs": [],
   "source": []
  }
 ],
 "metadata": {
  "kernelspec": {
   "display_name": "Python 3 (ipykernel)",
   "language": "python",
   "name": "python3"
  },
  "language_info": {
   "codemirror_mode": {
    "name": "ipython",
    "version": 3
   },
   "file_extension": ".py",
   "mimetype": "text/x-python",
   "name": "python",
   "nbconvert_exporter": "python",
   "pygments_lexer": "ipython3",
   "version": "3.12.2"
  }
 },
 "nbformat": 4,
 "nbformat_minor": 5
}
